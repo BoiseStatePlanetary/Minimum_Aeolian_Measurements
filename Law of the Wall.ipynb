{
 "cells": [
  {
   "cell_type": "markdown",
   "metadata": {},
   "source": [
    "#### What are the fewest number and spacing of measurements we'd need to accurately characterize the wind stress on Mars' surface?"
   ]
  },
  {
   "cell_type": "markdown",
   "metadata": {},
   "source": [
    "The Law of the Wall describes the wind profile $u(z)$ as a function of height $z$:\n",
    "$$\n",
    "u(z) = \\left( \\dfrac{u^*}{\\kappa} \\right)\\ln \\left( \\dfrac{z}{z_0} \\right),\n",
    "$$\n",
    "where $u^*$ is the friction velocity, $\\kappa$ Von Karman's constant (0.4), and $z_0$ the roughness length. The relationship between surface wind stress $\\tau$ and friction velocity is $u^* = \\sqrt{\\tau/\\rho}$, with $\\rho$ the atmospheric density."
   ]
  },
  {
   "cell_type": "markdown",
   "metadata": {},
   "source": [
    "We can re-cast this equation as a linear equation:\n",
    "$$\n",
    "u(x) = a x + b\n",
    "$$\n",
    "with $x = \\ln z$, $a = \\dfrac{u^*}{\\kappa}$, and $b = -\\dfrac{u^*}{\\kappa} \\ln z_0$."
   ]
  },
  {
   "cell_type": "markdown",
   "metadata": {},
   "source": [
    "Looking at _Numerical Recipes_, section 15.2, we see the equations I need to estimate uncertainties on $a$ and $b$."
   ]
  },
  {
   "cell_type": "code",
   "execution_count": 65,
   "metadata": {},
   "outputs": [],
   "source": [
    "import numpy as np\n",
    "\n",
    "class Linear_Regression:\n",
    "    \n",
    "    def __init__(self, z, u, sigma):\n",
    "        self.z = z\n",
    "        self.x = np.log(z)\n",
    "        self.u = u\n",
    "        self.y = u\n",
    "        self.sigma = sigma\n",
    "\n",
    "    def S(self):\n",
    "        return np.sum(1./self.sigma**2)\n",
    "    \n",
    "    def Sx(self):\n",
    "        return np.sum(self.x/self.sigma**2.)\n",
    "    \n",
    "    def Sy(self):\n",
    "        return np.sum(self.y/self.sigma**2.)\n",
    "    \n",
    "    def Sxx(self):\n",
    "        return np.sum(self.x**2/self.sigma**2)\n",
    "    \n",
    "    def Sxy(self):\n",
    "        return np.sum(self.x*self.y/self.sigma**2)\n",
    "    \n",
    "    def Delta(self):\n",
    "        return self.S()*self.Sxx() - self.Sx()**2\n",
    "    \n",
    "    def calc_intercept(self):\n",
    "        return (self.Sxx()*self.Sy() - self.Sx()*self.Sxy())/self.Delta()\n",
    "        \n",
    "    def calc_slope(self):\n",
    "        return (self.S()*self.Sxy() - self.Sx()*self.Sy())/self.Delta()\n",
    "    \n",
    "    def calc_intercept_uncertainty(self):\n",
    "        return self.Sxx()/self.Delta()\n",
    "    \n",
    "    def calc_slope_uncertainty(self):\n",
    "        return self.S()/self.Delta()\n",
    "    \n",
    "    def calc_everything(self):\n",
    "        return [self.calc_slope(), self.calc_intercept(), \n",
    "                self.calc_slope_uncertainty(), self.calc_intercept_uncertainty()]"
   ]
  },
  {
   "cell_type": "code",
   "execution_count": 71,
   "metadata": {},
   "outputs": [
    {
     "name": "stdout",
     "output_type": "stream",
     "text": [
      "2.5 25.09731380857808\n"
     ]
    },
    {
     "data": {
      "text/plain": [
       "<matplotlib.collections.PathCollection at 0x7f83d0bc2dd8>"
      ]
     },
     "execution_count": 71,
     "metadata": {},
     "output_type": "execute_result"
    },
    {
     "data": {
      "image/png": "[encoded data removed]",
      "text/plain": [
       "<Figure size 432x288 with 1 Axes>"
      ]
     },
     "metadata": {
      "needs_background": "light"
     },
     "output_type": "display_data"
    }
   ],
   "source": [
    "%matplotlib inline\n",
    "\n",
    "import matplotlib.pyplot as plt\n",
    "from numpy.random import normal\n",
    "\n",
    "def law_of_the_wall(z, z0, ustar, kappa=0.4):\n",
    "    return ustar/kappa*np.log(z/z0)\n",
    "\n",
    "# generate synthetic data\n",
    "\n",
    "z = np.array([4e-3, 66e-3, 160e-3, 320e-3]) # m - values inspired by Swann et al. (2020)\n",
    "z0 = 1310e-6/30. # m\n",
    "ustar = 1. # m/s\n",
    "sigma = ustar/10.\n",
    "kappa = 0.4\n",
    "u = law_of_the_wall(z, z0, ustar)\n",
    "noisy_u = u + normal(size=len(z), scale=sigma)\n",
    "\n",
    "slope = ustar/kappa\n",
    "intercept = -ustar/kappa*np.log(z0)\n",
    "print(slope, intercept)\n",
    "\n",
    "plt.plot(u, z)\n",
    "plt.plot(np.polyval([slope, intercept], np.log(z)), z, ls='--')\n",
    "plt.scatter(noisy_u, z)"
   ]
  },
  {
   "cell_type": "code",
   "execution_count": 84,
   "metadata": {},
   "outputs": [
    {
     "name": "stdout",
     "output_type": "stream",
     "text": [
      "3.0068937273906213\n"
     ]
    }
   ],
   "source": [
    "x = np.exp(np.linspace(0, 1, 100))\n",
    "y = 1.*np.log(x) + 1.\n",
    "lr = Linear_Regression(x, y, sigma)\n",
    "print(lr.calc_slope())"
   ]
  }
 ],
 "metadata": {
  "kernelspec": {
   "display_name": "Python 3",
   "language": "python",
   "name": "python3"
  },
  "language_info": {
   "codemirror_mode": {
    "name": "ipython",
    "version": 3
   },
   "file_extension": ".py",
   "mimetype": "text/x-python",
   "name": "python",
   "nbconvert_exporter": "python",
   "pygments_lexer": "ipython3",
   "version": "3.7.1"
  }
 },
 "nbformat": 4,
 "nbformat_minor": 2
}
